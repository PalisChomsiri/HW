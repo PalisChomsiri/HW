{
 "cells": [
  {
   "cell_type": "markdown",
   "metadata": {},
   "source": [
    "# 4.\taverage of total emission intensity of each department\n",
    "\n"
   ]
  },
  {
   "cell_type": "code",
   "execution_count": 3,
   "metadata": {},
   "outputs": [],
   "source": [
    "import pandas as pd\n",
    "import numpy as np"
   ]
  },
  {
   "cell_type": "code",
   "execution_count": 5,
   "metadata": {},
   "outputs": [],
   "source": [
    "data = pd.read_csv('Energy_and_Water_Use_-_Municipal_Buildings.csv')"
   ]
  },
  {
   "cell_type": "code",
   "execution_count": 6,
   "metadata": {},
   "outputs": [
    {
     "data": {
      "text/plain": [
       "department\n",
       "Animal          7.857143\n",
       "CDD:            4.000000\n",
       "Cultural        3.500000\n",
       "DOT:            3.561538\n",
       "Fire            5.576296\n",
       "GSD            11.142857\n",
       "ITA:           62.300000\n",
       "Libraries:      5.736364\n",
       "Municipal      28.880000\n",
       "Municipal:      4.700000\n",
       "Personnel       6.650000\n",
       "Police          9.600000\n",
       "Public          3.850000\n",
       "Residence:      4.100000\n",
       "Sanitation:    18.030769\n",
       "Street         46.718182\n",
       "Name: total_ghg_emissions_intensity_kgco2e_ft, dtype: float64"
      ]
     },
     "execution_count": 6,
     "metadata": {},
     "output_type": "execute_result"
    }
   ],
   "source": [
    "data['total_ghg_emissions_intensity_kgco2e_ft'].groupby(data['department']).mean()\n",
    "\n"
   ]
  }
 ],
 "metadata": {
  "kernelspec": {
   "display_name": "Python 3",
   "language": "python",
   "name": "python3"
  },
  "language_info": {
   "codemirror_mode": {
    "name": "ipython",
    "version": 3
   },
   "file_extension": ".py",
   "mimetype": "text/x-python",
   "name": "python",
   "nbconvert_exporter": "python",
   "pygments_lexer": "ipython3",
   "version": "3.6.5"
  }
 },
 "nbformat": 4,
 "nbformat_minor": 2
}

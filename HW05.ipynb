{
 "cells": [
  {
   "cell_type": "markdown",
   "metadata": {},
   "source": [
    "# 5.\tmax property_gfa (หน่วยงานใดมีพื้นที่สูงสุด)\n",
    "\n"
   ]
  },
  {
   "cell_type": "code",
   "execution_count": 3,
   "metadata": {},
   "outputs": [],
   "source": [
    "import pandas as pd"
   ]
  },
  {
   "cell_type": "code",
   "execution_count": 4,
   "metadata": {},
   "outputs": [],
   "source": [
    "data = pd.read_csv('Energy_and_Water_Use_-_Municipal_Buildings.csv')"
   ]
  },
  {
   "cell_type": "code",
   "execution_count": 5,
   "metadata": {},
   "outputs": [
    {
     "data": {
      "text/html": [
       "<div>\n",
       "<style scoped>\n",
       "    .dataframe tbody tr th:only-of-type {\n",
       "        vertical-align: middle;\n",
       "    }\n",
       "\n",
       "    .dataframe tbody tr th {\n",
       "        vertical-align: top;\n",
       "    }\n",
       "\n",
       "    .dataframe thead th {\n",
       "        text-align: right;\n",
       "    }\n",
       "</style>\n",
       "<table border=\"1\" class=\"dataframe\">\n",
       "  <thead>\n",
       "    <tr style=\"text-align: right;\">\n",
       "      <th></th>\n",
       "      <th>the_geom</th>\n",
       "      <th>property_name</th>\n",
       "      <th>department</th>\n",
       "      <th>property_gfa___self_reported_ft</th>\n",
       "    </tr>\n",
       "  </thead>\n",
       "  <tbody>\n",
       "    <tr>\n",
       "      <th>14</th>\n",
       "      <td>0101000020E6100000A6EF3504C78E5DC0DE5A26C3F106...</td>\n",
       "      <td>Municipal: 1/18  Piper Tech</td>\n",
       "      <td>Municipal</td>\n",
       "      <td>1300000</td>\n",
       "    </tr>\n",
       "    <tr>\n",
       "      <th>253</th>\n",
       "      <td>0101000020E6100000A6EF3504C78E5DC0DE5A26C3F106...</td>\n",
       "      <td>Municipal: 1/18  Piper Tech</td>\n",
       "      <td>Municipal</td>\n",
       "      <td>1300000</td>\n",
       "    </tr>\n",
       "  </tbody>\n",
       "</table>\n",
       "</div>"
      ],
      "text/plain": [
       "                                              the_geom  \\\n",
       "14   0101000020E6100000A6EF3504C78E5DC0DE5A26C3F106...   \n",
       "253  0101000020E6100000A6EF3504C78E5DC0DE5A26C3F106...   \n",
       "\n",
       "                   property_name department  property_gfa___self_reported_ft  \n",
       "14   Municipal: 1/18  Piper Tech  Municipal                          1300000  \n",
       "253  Municipal: 1/18  Piper Tech  Municipal                          1300000  "
      ]
     },
     "execution_count": 5,
     "metadata": {},
     "output_type": "execute_result"
    }
   ],
   "source": [
    "data.iloc[:,[1,8,7,4]][(data['property_gfa___self_reported_ft']==data.property_gfa___self_reported_ft.idxmax()) | (data['property_gfa___self_reported_ft'] ==data.property_gfa___self_reported_ft.max())]\n",
    "\n"
   ]
  }
 ],
 "metadata": {
  "kernelspec": {
   "display_name": "Python 3",
   "language": "python",
   "name": "python3"
  },
  "language_info": {
   "codemirror_mode": {
    "name": "ipython",
    "version": 3
   },
   "file_extension": ".py",
   "mimetype": "text/x-python",
   "name": "python",
   "nbconvert_exporter": "python",
   "pygments_lexer": "ipython3",
   "version": "3.6.5"
  }
 },
 "nbformat": 4,
 "nbformat_minor": 2
}
